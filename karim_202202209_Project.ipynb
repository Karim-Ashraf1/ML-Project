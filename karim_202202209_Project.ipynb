{
  "nbformat": 4,
  "nbformat_minor": 0,
  "metadata": {
    "colab": {
      "provenance": [],
      "include_colab_link": true
    },
    "kernelspec": {
      "name": "python3",
      "display_name": "Python 3"
    },
    "language_info": {
      "name": "python"
    }
  },
  "cells": [
    {
      "cell_type": "markdown",
      "metadata": {
        "id": "view-in-github",
        "colab_type": "text"
      },
      "source": [
        "<a href=\"https://colab.research.google.com/github/Karim-Ashraf1/ML-Project/blob/main/karim_202202209_Project.ipynb\" target=\"_parent\"><img src=\"https://colab.research.google.com/assets/colab-badge.svg\" alt=\"Open In Colab\"/></a>"
      ]
    },
    {
      "cell_type": "code",
      "execution_count": null,
      "metadata": {
        "id": "5E9d_FYwgSLg"
      },
      "outputs": [],
      "source": [
        "import pandas as pd\n",
        "from sklearn.preprocessing import LabelEncoder, StandardScaler\n",
        "from sklearn.model_selection import train_test_split\n",
        "from sklearn.model_selection import cross_val_score\n",
        "from sklearn.metrics import accuracy_score, precision_score, recall_score, f1_score, confusion_matrix\n",
        "from sklearn.neighbors import KNeighborsClassifier\n",
        "from sklearn.metrics import classification_report, accuracy_score\n",
        "from sklearn.linear_model import LinearRegression\n",
        "from sklearn.metrics import mean_squared_error\n",
        "from sklearn.linear_model import LogisticRegression\n",
        "from sklearn.svm import SVC\n",
        "import numpy as np\n",
        "import tensorflow as tf\n",
        "from tensorflow.keras.models import Sequential\n",
        "from tensorflow.keras.layers import Dense"
      ]
    },
    {
      "cell_type": "code",
      "source": [
        "data = pd.read_csv(\"mhealth_raw_data.csv\")"
      ],
      "metadata": {
        "id": "q7khoFBngyFQ"
      },
      "execution_count": null,
      "outputs": []
    },
    {
      "cell_type": "code",
      "source": [
        "encoder = LabelEncoder()\n",
        "\n",
        "data['subject_encoded'] = encoder.fit_transform(data['subject'])\n",
        "data.drop(columns=['subject'], inplace=True)"
      ],
      "metadata": {
        "id": "c0LZTqMHg35g"
      },
      "execution_count": null,
      "outputs": []
    },
    {
      "cell_type": "code",
      "source": [
        "sample = data.sample(n=15000, random_state=42)\n",
        "\n",
        "X = sample.drop(columns=['Activity'])\n",
        "y = sample['Activity']"
      ],
      "metadata": {
        "id": "j1m29IPQg8W-"
      },
      "execution_count": null,
      "outputs": []
    },
    {
      "cell_type": "code",
      "source": [
        "X_train, X_test, y_train, y_test = train_test_split(X, y, test_size=0.2, random_state=42)\n",
        "scaler = StandardScaler()\n",
        "\n",
        "X_train_normalized = scaler.fit_transform(X_train)\n",
        "X_test_normalized = scaler.transform(X_test)"
      ],
      "metadata": {
        "id": "9jfcmrZGg-X0"
      },
      "execution_count": null,
      "outputs": []
    },
    {
      "cell_type": "code",
      "source": [
        "def evaluate_model(model, X_test, y_test):\n",
        "    prediction = model.predict(X_test)\n",
        "\n",
        "    acc = accuracy_score(y_test, prediction)\n",
        "    precision = precision_score(y_test, prediction, average='weighted')\n",
        "    recall = recall_score(y_test, prediction, average='weighted')\n",
        "    f1 = f1_score(y_test, prediction, average='weighted')\n",
        "    conf_matrix = confusion_matrix(y_test, prediction)\n",
        "\n",
        "    print(f\"Accuracy: {acc:.4f}\")\n",
        "    print(f\"Precision: {precision:.4f}\")\n",
        "    print(f\"Recall: {recall:.4f}\")\n",
        "    print(f\"F1 Score: {f1:.4f}\")\n",
        "    print(\"Confusion Matrix:\\n\", conf_matrix)\n",
        "\n",
        "    return acc"
      ],
      "metadata": {
        "id": "xwx-5ZC9hB_r"
      },
      "execution_count": null,
      "outputs": []
    },
    {
      "cell_type": "markdown",
      "source": [
        "#***Knn***"
      ],
      "metadata": {
        "id": "s3Ixgy4qhMCS"
      }
    },
    {
      "cell_type": "code",
      "source": [
        "KNN_Model = KNeighborsClassifier(n_neighbors=3) # 3 is the best choise\n",
        "KNN_Model.fit(X_train_normalized, y_train)\n",
        "\n",
        "print(\"KNN Model Evaluation:\")\n",
        "KNeighborsClassifierAccuracy = evaluate_model(KNN_Model, X_test_normalized, y_test)\n",
        "\n",
        "cv = cross_val_score(KNN_Model, X_train_normalized, y_train, cv=3, scoring='accuracy')\n",
        "print(f\"Cross Validation: {cv}\")"
      ],
      "metadata": {
        "colab": {
          "base_uri": "https://localhost:8080/"
        },
        "collapsed": true,
        "id": "yYfspj2LhIrW",
        "outputId": "6ce175f5-fd4c-4839-b178-48681a6dab84"
      },
      "execution_count": null,
      "outputs": [
        {
          "output_type": "stream",
          "name": "stdout",
          "text": [
            "KNN Model Evaluation:\n",
            "Accuracy: 0.8953\n",
            "Precision: 0.9019\n",
            "Recall: 0.8953\n",
            "F1 Score: 0.8973\n",
            "Confusion Matrix:\n",
            " [[2011   18   28   17   20   17   17   18   23   19    5   11]\n",
            " [   6   95    0    0    0    0    0    0    0    0    0    0]\n",
            " [  11    0   56    0    0    0    0    0    0    0    0    0]\n",
            " [   3    0    0   63    0    0    0    0    0    0    0    0]\n",
            " [  10    0    0    0   65    0    0    0    0    0    0    0]\n",
            " [   4    0    0    0    0   77    0    0    0    0    0    0]\n",
            " [  15    0    0    0    0    0   63    0    0    0    0    0]\n",
            " [  16    0    0    0    0    0    2   68    0    0    0    0]\n",
            " [  11    0    0    0    0    0    0    0   57    0    0    0]\n",
            " [  11    0    0    0    0    0    0    0    0   65    4    1]\n",
            " [   9    0    0    0    1    0    0    0    0    6   48    1]\n",
            " [   5    0    0    0    0    0    0    0    0    4    1   18]]\n",
            "Cross Validation: [0.889   0.89725 0.8865 ]\n"
          ]
        }
      ]
    },
    {
      "cell_type": "markdown",
      "source": [
        "#***LinearRegression***"
      ],
      "metadata": {
        "id": "iaIZ-dt8h2QK"
      }
    },
    {
      "cell_type": "code",
      "source": [
        "lR = LinearRegression()\n",
        "lR.fit(X_train_normalized, y_train)\n",
        "y_pred = lR.predict(X_test_normalized)\n",
        "\n",
        "Mse = mean_squared_error(y_test, y_pred)\n",
        "print(\"Mean Squared Error:\", Mse)"
      ],
      "metadata": {
        "colab": {
          "base_uri": "https://localhost:8080/"
        },
        "collapsed": true,
        "id": "mgzD4RGPh9Gh",
        "outputId": "ee311ce7-092f-49d4-d810-47f711a1b312"
      },
      "execution_count": null,
      "outputs": [
        {
          "output_type": "stream",
          "name": "stdout",
          "text": [
            "Mean Squared Error: 8.81773153973896\n"
          ]
        }
      ]
    },
    {
      "cell_type": "markdown",
      "source": [
        "#***LogisticRegression***"
      ],
      "metadata": {
        "id": "lEZc9iE4iBBi"
      }
    },
    {
      "cell_type": "code",
      "source": [
        "Lg = LogisticRegression(max_iter=1000)\n",
        "Lg.fit(X_train_normalized, y_train)\n",
        "\n",
        "print(\"Evaluation:\")\n",
        "LogisticAccuracy = evaluate_model(Lg , X_test_normalized, y_test)\n",
        "\n",
        "cv = cross_val_score(Lg, X_train_normalized, y_train, cv=3, scoring='accuracy')\n",
        "print(f\"Cross Validation: {cv}\")"
      ],
      "metadata": {
        "colab": {
          "base_uri": "https://localhost:8080/"
        },
        "id": "g6ZOCgfgiEZd",
        "outputId": "aa6e5577-aea8-4933-d82c-7f074e102b3a"
      },
      "execution_count": null,
      "outputs": [
        {
          "output_type": "stream",
          "name": "stdout",
          "text": [
            "Evaluation:\n",
            "Accuracy: 0.8130\n",
            "Precision: 0.7821\n",
            "Recall: 0.8130\n",
            "F1 Score: 0.7896\n",
            "Confusion Matrix:\n",
            " [[2024    8   46   22   10   12   12   17   21   13   14    5]\n",
            " [ 101    0    0    0    0    0    0    0    0    0    0    0]\n",
            " [   1    0   66    0    0    0    0    0    0    0    0    0]\n",
            " [   0    0    0   66    0    0    0    0    0    0    0    0]\n",
            " [  54    0    0    0   21    0    0    0    0    0    0    0]\n",
            " [  28    0    0    0    0   53    0    0    0    0    0    0]\n",
            " [  48    0    0    0    0    0   30    0    0    0    0    0]\n",
            " [  42    0    0    0    0    0    1   43    0    0    0    0]\n",
            " [  15    0    0    0    0    0    0    0   53    0    0    0]\n",
            " [  40    0    0    0    0    0    0    0    0   35    6    0]\n",
            " [  16    0    0    0    0    0    0    0    0    3   45    1]\n",
            " [  13    0    0    0    0    0    0    0    0    0   12    3]]\n",
            "Cross Validation: [0.8195 0.8145 0.8185]\n"
          ]
        }
      ]
    },
    {
      "cell_type": "markdown",
      "source": [
        "#***svm***"
      ],
      "metadata": {
        "id": "LD57JFyliHbl"
      }
    },
    {
      "cell_type": "code",
      "source": [
        "svm = SVC(kernel='rbf')\n",
        "svm.fit(X_train_normalized, y_train)\n",
        "\n",
        "print(\"SVM Model Evaluation:\")\n",
        "SVMAccuracy = evaluate_model(svm, X_test_normalized, y_test)\n",
        "\n",
        "cv_scores = cross_val_score(svm, X_train_normalized, y_train, cv=3, scoring='accuracy')\n",
        "print(f\"Cross Validation: {cv_scores}\")"
      ],
      "metadata": {
        "colab": {
          "base_uri": "https://localhost:8080/"
        },
        "id": "hvXIYjmYiMKw",
        "outputId": "6b44917a-24dc-4a4b-8b59-a39a570985b4"
      },
      "execution_count": null,
      "outputs": [
        {
          "output_type": "stream",
          "name": "stdout",
          "text": [
            "SVM Model Evaluation:\n",
            "Accuracy: 0.8777\n",
            "Precision: 0.8837\n",
            "Recall: 0.8777\n",
            "F1 Score: 0.8774\n",
            "Confusion Matrix:\n",
            " [[1998   31   46   22   13   14   10   14   25   15    7    9]\n",
            " [   0  101    0    0    0    0    0    0    0    0    0    0]\n",
            " [   0    0   67    0    0    0    0    0    0    0    0    0]\n",
            " [   0    0    0   66    0    0    0    0    0    0    0    0]\n",
            " [  37    0    0    0   38    0    0    0    0    0    0    0]\n",
            " [  11    0    0    0    0   70    0    0    0    0    0    0]\n",
            " [  22    0    0    0    0    0   56    0    0    0    0    0]\n",
            " [  30    0    0    0    0    0    0   56    0    0    0    0]\n",
            " [  12    0    0    0    0    0    0    0   56    0    0    0]\n",
            " [  21    0    0    0    0    0    0    0    0   57    3    0]\n",
            " [  10    0    0    0    0    0    0    0    0    2   53    0]\n",
            " [  10    0    0    0    0    0    0    0    0    0    3   15]]\n",
            "Cross Validation: [0.84625 0.861   0.84775]\n"
          ]
        }
      ]
    },
    {
      "cell_type": "markdown",
      "source": [
        "#***Neural*** Network"
      ],
      "metadata": {
        "id": "vLp6l64wiQJm"
      }
    },
    {
      "cell_type": "code",
      "source": [
        "nn_model = Sequential([\n",
        "    Dense(10, activation='relu', input_shape=(None,32,13)),\n",
        "    Dense(5, activation='relu'),\n",
        "    Dense(1, activation='softmax')\n",
        "])\n",
        "\n",
        "nn_model.compile(optimizer='adam',\n",
        "                 loss='binary_crossentropy',\n",
        "                 metrics=['accuracy'])\n",
        "\n",
        "nn_model.fit(X_train_normalized, y_train, batch_size=32 ,epochs=100,validation_data=(X_train_normalized, y_train))\n",
        "\n",
        "y_pred = nn_model.predict(X_test_normalized)\n",
        "y_pred_classes = np.argmax(y_pred, axis=1)\n",
        "\n",
        "NeuralNetworkAccuracy = accuracy_score(y_test, y_pred_classes)\n",
        "precision = precision_score(y_test, y_pred_classes, average='weighted')\n",
        "recall = recall_score(y_test, y_pred_classes, average='weighted')\n",
        "f1 = f1_score(y_test, y_pred_classes, average='weighted')\n",
        "conf_matrix = confusion_matrix(y_test, y_pred_classes)\n",
        "\n",
        "print(\"Neural Network Model Evaluation:\")\n",
        "print(f\"Accuracy: {NeuralNetworkAccuracy:.4f}\")\n",
        "print(f\"Precision: {precision:.4f}\")\n",
        "print(f\"Recall: {recall:.4f}\")\n",
        "print(f\"F1 Score: {f1:.4f}\")\n",
        "print(\"Confusion Matrix:\\n\", conf_matrix)"
      ],
      "metadata": {
        "collapsed": true,
        "colab": {
          "base_uri": "https://localhost:8080/"
        },
        "id": "3_2QVcd1iU0u",
        "outputId": "d0e15fb0-1f4e-4ec5-cde3-6fd4a4fcc5cf"
      },
      "execution_count": null,
      "outputs": [
        {
          "output_type": "stream",
          "name": "stdout",
          "text": [
            "Epoch 1/100\n",
            "375/375 [==============================] - 6s 13ms/step - loss: -6.2810 - accuracy: 0.0258 - val_loss: -22.1020 - val_accuracy: 0.0258\n",
            "Epoch 2/100\n",
            "375/375 [==============================] - 4s 12ms/step - loss: -88.3809 - accuracy: 0.0258 - val_loss: -193.8532 - val_accuracy: 0.0258\n",
            "Epoch 3/100\n",
            "375/375 [==============================] - 2s 6ms/step - loss: -396.6648 - accuracy: 0.0258 - val_loss: -663.2817 - val_accuracy: 0.0258\n",
            "Epoch 4/100\n",
            "375/375 [==============================] - 1s 3ms/step - loss: -1048.3988 - accuracy: 0.0258 - val_loss: -1515.7656 - val_accuracy: 0.0258\n",
            "Epoch 5/100\n",
            "375/375 [==============================] - 1s 3ms/step - loss: -2136.6899 - accuracy: 0.0258 - val_loss: -2852.7209 - val_accuracy: 0.0258\n",
            "Epoch 6/100\n",
            "375/375 [==============================] - 1s 3ms/step - loss: -3715.8101 - accuracy: 0.0258 - val_loss: -4665.5068 - val_accuracy: 0.0258\n",
            "Epoch 7/100\n",
            "375/375 [==============================] - 1s 3ms/step - loss: -5798.9766 - accuracy: 0.0258 - val_loss: -7013.4673 - val_accuracy: 0.0258\n",
            "Epoch 8/100\n",
            "375/375 [==============================] - 1s 4ms/step - loss: -8387.8926 - accuracy: 0.0258 - val_loss: -9867.5059 - val_accuracy: 0.0258\n",
            "Epoch 9/100\n",
            "375/375 [==============================] - 2s 6ms/step - loss: -11553.4668 - accuracy: 0.0258 - val_loss: -13331.0469 - val_accuracy: 0.0258\n",
            "Epoch 10/100\n",
            "375/375 [==============================] - 1s 3ms/step - loss: -15299.9639 - accuracy: 0.0258 - val_loss: -17409.8066 - val_accuracy: 0.0258\n",
            "Epoch 11/100\n",
            "375/375 [==============================] - 1s 3ms/step - loss: -19670.2441 - accuracy: 0.0258 - val_loss: -22086.0352 - val_accuracy: 0.0258\n",
            "Epoch 12/100\n",
            "375/375 [==============================] - 1s 3ms/step - loss: -24706.9102 - accuracy: 0.0258 - val_loss: -27461.4258 - val_accuracy: 0.0258\n",
            "Epoch 13/100\n",
            "375/375 [==============================] - 1s 3ms/step - loss: -30410.4746 - accuracy: 0.0258 - val_loss: -33470.2383 - val_accuracy: 0.0258\n",
            "Epoch 14/100\n",
            "375/375 [==============================] - 1s 3ms/step - loss: -36751.0547 - accuracy: 0.0258 - val_loss: -40204.2070 - val_accuracy: 0.0258\n",
            "Epoch 15/100\n",
            "375/375 [==============================] - 1s 3ms/step - loss: -43885.5938 - accuracy: 0.0258 - val_loss: -47715.7500 - val_accuracy: 0.0258\n",
            "Epoch 16/100\n",
            "375/375 [==============================] - 1s 3ms/step - loss: -51794.1992 - accuracy: 0.0258 - val_loss: -56011.0820 - val_accuracy: 0.0258\n",
            "Epoch 17/100\n",
            "375/375 [==============================] - 1s 3ms/step - loss: -60446.5547 - accuracy: 0.0258 - val_loss: -65077.1992 - val_accuracy: 0.0258\n",
            "Epoch 18/100\n",
            "375/375 [==============================] - 1s 4ms/step - loss: -69894.7812 - accuracy: 0.0258 - val_loss: -74955.9375 - val_accuracy: 0.0258\n",
            "Epoch 19/100\n",
            "375/375 [==============================] - 2s 6ms/step - loss: -80108.8516 - accuracy: 0.0258 - val_loss: -85537.8906 - val_accuracy: 0.0258\n",
            "Epoch 20/100\n",
            "375/375 [==============================] - 1s 3ms/step - loss: -91178.9453 - accuracy: 0.0258 - val_loss: -97057.2188 - val_accuracy: 0.0258\n",
            "Epoch 21/100\n",
            "375/375 [==============================] - 1s 3ms/step - loss: -103119.4219 - accuracy: 0.0258 - val_loss: -109412.6484 - val_accuracy: 0.0258\n",
            "Epoch 22/100\n",
            "375/375 [==============================] - 1s 3ms/step - loss: -116025.4219 - accuracy: 0.0258 - val_loss: -122824.8203 - val_accuracy: 0.0258\n",
            "Epoch 23/100\n",
            "375/375 [==============================] - 1s 3ms/step - loss: -129861.0312 - accuracy: 0.0258 - val_loss: -137029.4844 - val_accuracy: 0.0258\n",
            "Epoch 24/100\n",
            "375/375 [==============================] - 1s 3ms/step - loss: -144507.6562 - accuracy: 0.0258 - val_loss: -152234.0625 - val_accuracy: 0.0258\n",
            "Epoch 25/100\n",
            "375/375 [==============================] - 1s 3ms/step - loss: -160091.6406 - accuracy: 0.0258 - val_loss: -168325.8438 - val_accuracy: 0.0258\n",
            "Epoch 26/100\n",
            "375/375 [==============================] - 1s 3ms/step - loss: -176652.3125 - accuracy: 0.0258 - val_loss: -185366.7188 - val_accuracy: 0.0258\n",
            "Epoch 27/100\n",
            "375/375 [==============================] - 1s 3ms/step - loss: -194258.2344 - accuracy: 0.0258 - val_loss: -203394.2656 - val_accuracy: 0.0258\n",
            "Epoch 28/100\n",
            "375/375 [==============================] - 2s 5ms/step - loss: -212918.9688 - accuracy: 0.0258 - val_loss: -222679.8125 - val_accuracy: 0.0258\n",
            "Epoch 29/100\n",
            "375/375 [==============================] - 2s 5ms/step - loss: -232733.9375 - accuracy: 0.0258 - val_loss: -243074.2188 - val_accuracy: 0.0258\n",
            "Epoch 30/100\n",
            "375/375 [==============================] - 1s 3ms/step - loss: -253664.6875 - accuracy: 0.0258 - val_loss: -264680.1562 - val_accuracy: 0.0258\n",
            "Epoch 31/100\n",
            "375/375 [==============================] - 1s 3ms/step - loss: -275760.8438 - accuracy: 0.0258 - val_loss: -287191.2188 - val_accuracy: 0.0258\n",
            "Epoch 32/100\n",
            "375/375 [==============================] - 1s 3ms/step - loss: -298964.1875 - accuracy: 0.0258 - val_loss: -311105.7188 - val_accuracy: 0.0258\n",
            "Epoch 33/100\n",
            "375/375 [==============================] - 1s 3ms/step - loss: -323304.4375 - accuracy: 0.0258 - val_loss: -335945.2188 - val_accuracy: 0.0258\n",
            "Epoch 34/100\n",
            "375/375 [==============================] - 1s 3ms/step - loss: -348823.2500 - accuracy: 0.0258 - val_loss: -362154.6562 - val_accuracy: 0.0258\n",
            "Epoch 35/100\n",
            "375/375 [==============================] - 1s 3ms/step - loss: -375509.8125 - accuracy: 0.0258 - val_loss: -389290.1250 - val_accuracy: 0.0258\n",
            "Epoch 36/100\n",
            "375/375 [==============================] - 1s 3ms/step - loss: -403415.1562 - accuracy: 0.0258 - val_loss: -417977.8125 - val_accuracy: 0.0258\n",
            "Epoch 37/100\n",
            "375/375 [==============================] - 1s 3ms/step - loss: -432640.8125 - accuracy: 0.0258 - val_loss: -447886.8438 - val_accuracy: 0.0258\n",
            "Epoch 38/100\n",
            "375/375 [==============================] - 2s 6ms/step - loss: -463376.9688 - accuracy: 0.0258 - val_loss: -479298.7188 - val_accuracy: 0.0258\n",
            "Epoch 39/100\n",
            "375/375 [==============================] - 2s 4ms/step - loss: -495196.4688 - accuracy: 0.0258 - val_loss: -511638.8125 - val_accuracy: 0.0258\n",
            "Epoch 40/100\n",
            "375/375 [==============================] - 1s 3ms/step - loss: -528212.5625 - accuracy: 0.0258 - val_loss: -545172.3750 - val_accuracy: 0.0258\n",
            "Epoch 41/100\n",
            "375/375 [==============================] - 1s 3ms/step - loss: -562557.8125 - accuracy: 0.0258 - val_loss: -580271.2500 - val_accuracy: 0.0258\n",
            "Epoch 42/100\n",
            "375/375 [==============================] - 1s 3ms/step - loss: -598323.1875 - accuracy: 0.0258 - val_loss: -616604.3125 - val_accuracy: 0.0258\n",
            "Epoch 43/100\n",
            "375/375 [==============================] - 1s 3ms/step - loss: -635383.4375 - accuracy: 0.0258 - val_loss: -654518.3750 - val_accuracy: 0.0258\n",
            "Epoch 44/100\n",
            "375/375 [==============================] - 1s 3ms/step - loss: -674070.3750 - accuracy: 0.0258 - val_loss: -694007.4375 - val_accuracy: 0.0258\n",
            "Epoch 45/100\n",
            "375/375 [==============================] - 1s 3ms/step - loss: -714329.8750 - accuracy: 0.0258 - val_loss: -735050.2500 - val_accuracy: 0.0258\n",
            "Epoch 46/100\n",
            "375/375 [==============================] - 1s 3ms/step - loss: -756192.7500 - accuracy: 0.0258 - val_loss: -777749.9375 - val_accuracy: 0.0258\n",
            "Epoch 47/100\n",
            "375/375 [==============================] - 2s 6ms/step - loss: -799507.4375 - accuracy: 0.0258 - val_loss: -821775.9375 - val_accuracy: 0.0258\n",
            "Epoch 48/100\n",
            "375/375 [==============================] - 2s 5ms/step - loss: -844450.1875 - accuracy: 0.0258 - val_loss: -867742.4375 - val_accuracy: 0.0258\n",
            "Epoch 49/100\n",
            "375/375 [==============================] - 1s 3ms/step - loss: -891056.0625 - accuracy: 0.0258 - val_loss: -914883.5000 - val_accuracy: 0.0258\n",
            "Epoch 50/100\n",
            "375/375 [==============================] - 1s 3ms/step - loss: -939069.0000 - accuracy: 0.0258 - val_loss: -963774.0625 - val_accuracy: 0.0258\n",
            "Epoch 51/100\n",
            "375/375 [==============================] - 1s 3ms/step - loss: -988591.9375 - accuracy: 0.0258 - val_loss: -1014071.1875 - val_accuracy: 0.0258\n",
            "Epoch 52/100\n",
            "375/375 [==============================] - 1s 3ms/step - loss: -1039816.1875 - accuracy: 0.0258 - val_loss: -1066220.3750 - val_accuracy: 0.0258\n",
            "Epoch 53/100\n",
            "375/375 [==============================] - 1s 3ms/step - loss: -1092724.2500 - accuracy: 0.0258 - val_loss: -1120246.8750 - val_accuracy: 0.0258\n",
            "Epoch 54/100\n",
            "375/375 [==============================] - 1s 3ms/step - loss: -1147157.5000 - accuracy: 0.0258 - val_loss: -1174661.5000 - val_accuracy: 0.0258\n",
            "Epoch 55/100\n",
            "375/375 [==============================] - 1s 3ms/step - loss: -1203455.3750 - accuracy: 0.0258 - val_loss: -1232419.6250 - val_accuracy: 0.0258\n",
            "Epoch 56/100\n",
            "375/375 [==============================] - 1s 3ms/step - loss: -1261910.8750 - accuracy: 0.0258 - val_loss: -1291665.0000 - val_accuracy: 0.0258\n",
            "Epoch 57/100\n",
            "375/375 [==============================] - 2s 6ms/step - loss: -1321959.7500 - accuracy: 0.0258 - val_loss: -1352349.2500 - val_accuracy: 0.0258\n",
            "Epoch 58/100\n",
            "375/375 [==============================] - 2s 4ms/step - loss: -1383473.2500 - accuracy: 0.0258 - val_loss: -1415406.0000 - val_accuracy: 0.0258\n",
            "Epoch 59/100\n",
            "375/375 [==============================] - 1s 3ms/step - loss: -1446928.7500 - accuracy: 0.0258 - val_loss: -1479084.2500 - val_accuracy: 0.0258\n",
            "Epoch 60/100\n",
            "375/375 [==============================] - 1s 3ms/step - loss: -1512305.1250 - accuracy: 0.0258 - val_loss: -1545661.2500 - val_accuracy: 0.0258\n",
            "Epoch 61/100\n",
            "375/375 [==============================] - 1s 3ms/step - loss: -1579176.5000 - accuracy: 0.0258 - val_loss: -1613681.3750 - val_accuracy: 0.0258\n",
            "Epoch 62/100\n",
            "375/375 [==============================] - 1s 3ms/step - loss: -1648020.0000 - accuracy: 0.0258 - val_loss: -1683377.5000 - val_accuracy: 0.0258\n",
            "Epoch 63/100\n",
            "375/375 [==============================] - 1s 3ms/step - loss: -1719056.7500 - accuracy: 0.0258 - val_loss: -1755256.6250 - val_accuracy: 0.0258\n",
            "Epoch 64/100\n",
            "375/375 [==============================] - 1s 3ms/step - loss: -1791708.8750 - accuracy: 0.0258 - val_loss: -1829087.2500 - val_accuracy: 0.0258\n",
            "Epoch 65/100\n",
            "375/375 [==============================] - 1s 3ms/step - loss: -1866137.1250 - accuracy: 0.0258 - val_loss: -1904443.3750 - val_accuracy: 0.0258\n",
            "Epoch 66/100\n",
            "375/375 [==============================] - 1s 3ms/step - loss: -1942430.7500 - accuracy: 0.0258 - val_loss: -1981375.0000 - val_accuracy: 0.0258\n",
            "Epoch 67/100\n",
            "375/375 [==============================] - 2s 4ms/step - loss: -2020761.7500 - accuracy: 0.0258 - val_loss: -2061163.0000 - val_accuracy: 0.0258\n",
            "Epoch 68/100\n",
            "375/375 [==============================] - 2s 6ms/step - loss: -2101139.5000 - accuracy: 0.0258 - val_loss: -2142562.2500 - val_accuracy: 0.0258\n",
            "Epoch 69/100\n",
            "375/375 [==============================] - 1s 3ms/step - loss: -2183239.7500 - accuracy: 0.0258 - val_loss: -2225497.0000 - val_accuracy: 0.0258\n",
            "Epoch 70/100\n",
            "375/375 [==============================] - 1s 3ms/step - loss: -2267389.5000 - accuracy: 0.0258 - val_loss: -2310325.5000 - val_accuracy: 0.0258\n",
            "Epoch 71/100\n",
            "375/375 [==============================] - 1s 3ms/step - loss: -2353797.0000 - accuracy: 0.0258 - val_loss: -2398023.7500 - val_accuracy: 0.0258\n",
            "Epoch 72/100\n",
            "375/375 [==============================] - 1s 3ms/step - loss: -2442273.0000 - accuracy: 0.0258 - val_loss: -2487507.7500 - val_accuracy: 0.0258\n",
            "Epoch 73/100\n",
            "375/375 [==============================] - 1s 3ms/step - loss: -2532571.2500 - accuracy: 0.0258 - val_loss: -2578535.5000 - val_accuracy: 0.0258\n",
            "Epoch 74/100\n",
            "375/375 [==============================] - 1s 4ms/step - loss: -2625180.2500 - accuracy: 0.0258 - val_loss: -2673124.2500 - val_accuracy: 0.0258\n",
            "Epoch 75/100\n",
            "375/375 [==============================] - 1s 3ms/step - loss: -2720745.0000 - accuracy: 0.0258 - val_loss: -2769486.2500 - val_accuracy: 0.0258\n",
            "Epoch 76/100\n",
            "375/375 [==============================] - 2s 5ms/step - loss: -2818579.5000 - accuracy: 0.0258 - val_loss: -2868714.7500 - val_accuracy: 0.0258\n",
            "Epoch 77/100\n",
            "375/375 [==============================] - 2s 7ms/step - loss: -2918476.7500 - accuracy: 0.0258 - val_loss: -2969428.7500 - val_accuracy: 0.0258\n",
            "Epoch 78/100\n",
            "375/375 [==============================] - 1s 3ms/step - loss: -3020502.7500 - accuracy: 0.0258 - val_loss: -3072364.2500 - val_accuracy: 0.0258\n",
            "Epoch 79/100\n",
            "375/375 [==============================] - 1s 3ms/step - loss: -3124353.2500 - accuracy: 0.0258 - val_loss: -3177935.5000 - val_accuracy: 0.0258\n",
            "Epoch 80/100\n",
            "375/375 [==============================] - 1s 4ms/step - loss: -3230488.0000 - accuracy: 0.0258 - val_loss: -3284115.0000 - val_accuracy: 0.0258\n",
            "Epoch 81/100\n",
            "375/375 [==============================] - 1s 3ms/step - loss: -3339526.7500 - accuracy: 0.0258 - val_loss: -3395344.7500 - val_accuracy: 0.0258\n",
            "Epoch 82/100\n",
            "375/375 [==============================] - 1s 3ms/step - loss: -3451035.0000 - accuracy: 0.0258 - val_loss: -3507010.2500 - val_accuracy: 0.0258\n",
            "Epoch 83/100\n",
            "375/375 [==============================] - 1s 3ms/step - loss: -3564380.7500 - accuracy: 0.0258 - val_loss: -3622919.2500 - val_accuracy: 0.0258\n",
            "Epoch 84/100\n",
            "375/375 [==============================] - 1s 3ms/step - loss: -3680419.5000 - accuracy: 0.0258 - val_loss: -3739970.5000 - val_accuracy: 0.0258\n",
            "Epoch 85/100\n",
            "375/375 [==============================] - 1s 3ms/step - loss: -3798900.5000 - accuracy: 0.0258 - val_loss: -3858742.0000 - val_accuracy: 0.0258\n",
            "Epoch 86/100\n",
            "375/375 [==============================] - 2s 6ms/step - loss: -3919954.0000 - accuracy: 0.0258 - val_loss: -3981504.2500 - val_accuracy: 0.0258\n",
            "Epoch 87/100\n",
            "375/375 [==============================] - 2s 4ms/step - loss: -4043291.0000 - accuracy: 0.0258 - val_loss: -4106681.0000 - val_accuracy: 0.0258\n",
            "Epoch 88/100\n",
            "375/375 [==============================] - 1s 3ms/step - loss: -4169266.7500 - accuracy: 0.0258 - val_loss: -4234097.5000 - val_accuracy: 0.0258\n",
            "Epoch 89/100\n",
            "375/375 [==============================] - 1s 3ms/step - loss: -4297978.5000 - accuracy: 0.0258 - val_loss: -4364302.0000 - val_accuracy: 0.0258\n",
            "Epoch 90/100\n",
            "375/375 [==============================] - 1s 3ms/step - loss: -4429659.5000 - accuracy: 0.0258 - val_loss: -4496174.5000 - val_accuracy: 0.0258\n",
            "Epoch 91/100\n",
            "375/375 [==============================] - 1s 3ms/step - loss: -4564076.0000 - accuracy: 0.0258 - val_loss: -4632434.5000 - val_accuracy: 0.0258\n",
            "Epoch 92/100\n",
            "375/375 [==============================] - 1s 3ms/step - loss: -4700537.5000 - accuracy: 0.0258 - val_loss: -4770259.5000 - val_accuracy: 0.0258\n",
            "Epoch 93/100\n",
            "375/375 [==============================] - 1s 3ms/step - loss: -4839463.5000 - accuracy: 0.0258 - val_loss: -4909914.0000 - val_accuracy: 0.0258\n",
            "Epoch 94/100\n",
            "375/375 [==============================] - 1s 3ms/step - loss: -4980236.5000 - accuracy: 0.0258 - val_loss: -5052044.5000 - val_accuracy: 0.0258\n",
            "Epoch 95/100\n",
            "375/375 [==============================] - 1s 3ms/step - loss: -5123784.5000 - accuracy: 0.0258 - val_loss: -5195682.0000 - val_accuracy: 0.0258\n",
            "Epoch 96/100\n",
            "375/375 [==============================] - 1s 4ms/step - loss: -5270406.5000 - accuracy: 0.0258 - val_loss: -5345088.0000 - val_accuracy: 0.0258\n",
            "Epoch 97/100\n",
            "375/375 [==============================] - 2s 6ms/step - loss: -5418426.0000 - accuracy: 0.0258 - val_loss: -5494087.5000 - val_accuracy: 0.0258\n",
            "Epoch 98/100\n",
            "375/375 [==============================] - 1s 3ms/step - loss: -5569014.0000 - accuracy: 0.0258 - val_loss: -5646354.0000 - val_accuracy: 0.0258\n",
            "Epoch 99/100\n",
            "375/375 [==============================] - 1s 3ms/step - loss: -5723195.5000 - accuracy: 0.0258 - val_loss: -5801455.5000 - val_accuracy: 0.0258\n",
            "Epoch 100/100\n",
            "375/375 [==============================] - 1s 3ms/step - loss: -5880298.0000 - accuracy: 0.0258 - val_loss: -5961024.0000 - val_accuracy: 0.0258\n",
            "94/94 [==============================] - 1s 1ms/step\n",
            "Neural Network Model Evaluation:\n",
            "Accuracy: 0.7347\n",
            "Precision: 0.5397\n",
            "Recall: 0.7347\n",
            "F1 Score: 0.6223\n",
            "Confusion Matrix:\n",
            " [[2204    0    0    0    0    0    0    0    0    0    0    0]\n",
            " [ 101    0    0    0    0    0    0    0    0    0    0    0]\n",
            " [  67    0    0    0    0    0    0    0    0    0    0    0]\n",
            " [  66    0    0    0    0    0    0    0    0    0    0    0]\n",
            " [  75    0    0    0    0    0    0    0    0    0    0    0]\n",
            " [  81    0    0    0    0    0    0    0    0    0    0    0]\n",
            " [  78    0    0    0    0    0    0    0    0    0    0    0]\n",
            " [  86    0    0    0    0    0    0    0    0    0    0    0]\n",
            " [  68    0    0    0    0    0    0    0    0    0    0    0]\n",
            " [  81    0    0    0    0    0    0    0    0    0    0    0]\n",
            " [  65    0    0    0    0    0    0    0    0    0    0    0]\n",
            " [  28    0    0    0    0    0    0    0    0    0    0    0]]\n"
          ]
        },
        {
          "output_type": "stream",
          "name": "stderr",
          "text": [
            "/usr/local/lib/python3.10/dist-packages/sklearn/metrics/_classification.py:1344: UndefinedMetricWarning: Precision is ill-defined and being set to 0.0 in labels with no predicted samples. Use `zero_division` parameter to control this behavior.\n",
            "  _warn_prf(average, modifier, msg_start, len(result))\n"
          ]
        }
      ]
    },
    {
      "cell_type": "markdown",
      "source": [
        "#***result***"
      ],
      "metadata": {
        "id": "I-PdKx8QiZpY"
      }
    },
    {
      "cell_type": "code",
      "source": [
        "max_accuracy = max(KNeighborsClassifierAccuracy, SVMAccuracy, NeuralNetworkAccuracy, LogisticAccuracy)\n",
        "\n",
        "if max_accuracy == KNeighborsClassifierAccuracy:\n",
        "    print(f\"Max Accuracy is {max_accuracy:.4f}, achieved by KNN\")\n",
        "elif max_accuracy == SVMAccuracy:\n",
        "    print(f\"Max Accuracy is {max_accuracy:.4f}, achieved by SVM\")\n",
        "elif max_accuracy == NeuralNetworkAccuracy:\n",
        "    print(f\"Max Accuracy is {max_accuracy:.4f}, achieved by Neural Network\")\n",
        "elif max_accuracy == LogisticAccuracy:\n",
        "    print(f\"Max Accuracy is {max_accuracy:.4f}, achieved by Logistic Reggretion\")\n",
        "\n"
      ],
      "metadata": {
        "colab": {
          "base_uri": "https://localhost:8080/"
        },
        "id": "3PT9xxW4ie7d",
        "outputId": "afbd128d-011e-4699-8f3f-de2cc643bd81"
      },
      "execution_count": null,
      "outputs": [
        {
          "output_type": "stream",
          "name": "stdout",
          "text": [
            "Max Accuracy is 0.8953, achieved by KNN\n"
          ]
        }
      ]
    }
  ]
}